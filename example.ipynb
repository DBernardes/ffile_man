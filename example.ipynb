{
 "cells": [
  {
   "cell_type": "markdown",
   "metadata": {},
   "source": [
    "# This is an example of how to use the ffile-man package"
   ]
  },
  {
   "cell_type": "code",
   "execution_count": null,
   "metadata": {},
   "outputs": [],
   "source": [
    "import os\n",
    "from datetime import datetime\n",
    "\n",
    "from ffile_man.manager import Manager"
   ]
  },
  {
   "cell_type": "code",
   "execution_count": null,
   "metadata": {},
   "outputs": [],
   "source": [
    "# Example 1\n",
    "# The first example will print all the files found in the folder.\n",
    "\n",
    "images_folder = os.path.join(\"FITS\")\n",
    "man = Manager(images_folder, sub_folders=True)\n",
    "man.print_list()"
   ]
  },
  {
   "cell_type": "code",
   "execution_count": null,
   "metadata": {},
   "outputs": [],
   "source": [
    "# Example 2\n",
    "# The second will print the files with a timestamp greater than 2024-7-17T12:11:00 (isot).\n",
    "\n",
    "images_folder = os.path.join(\"FITS\")\n",
    "man = Manager(images_folder, sub_folders=True)\n",
    "man >= datetime(2024, 7, 17, 12, 11)\n",
    "man.print_list()"
   ]
  },
  {
   "cell_type": "code",
   "execution_count": null,
   "metadata": {},
   "outputs": [],
   "source": [
    "# Example 3\n",
    "# The third will print the files whose OBSTYPE keyword matches the FLAT and ZERO strings\n",
    "\n",
    "images_folder = os.path.join(\"FITS\")\n",
    "man = Manager(images_folder, sub_folders=True)\n",
    "man.obs_type([\"FLAT\", \"ZERO\"])\n",
    "man.print_list()"
   ]
  }
 ],
 "metadata": {
  "kernelspec": {
   "display_name": "ffile-man-vLGV14Kr-py3.12",
   "language": "python",
   "name": "python3"
  },
  "language_info": {
   "codemirror_mode": {
    "name": "ipython",
    "version": 3
   },
   "file_extension": ".py",
   "mimetype": "text/x-python",
   "name": "python",
   "nbconvert_exporter": "python",
   "pygments_lexer": "ipython3",
   "version": "3.12.2"
  }
 },
 "nbformat": 4,
 "nbformat_minor": 2
}
