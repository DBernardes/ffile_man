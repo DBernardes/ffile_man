{
 "cells": [
  {
   "cell_type": "markdown",
   "metadata": {},
   "source": [
    "# This is an example of how to use the ffile-man package"
   ]
  },
  {
   "cell_type": "code",
   "execution_count": 2,
   "metadata": {},
   "outputs": [],
   "source": [
    "import os\n",
    "from datetime import datetime\n",
    "\n",
    "from ffile_man.manager import Manager"
   ]
  },
  {
   "cell_type": "code",
   "execution_count": null,
   "metadata": {},
   "outputs": [],
   "source": [
    "# ==================== Example 1 =================\n",
    "\n",
    "images_folder = os.path.join(\"FITS\")\n",
    "man = Manager(images_folder, sub_folders=True)\n",
    "man.print_list()"
   ]
  },
  {
   "cell_type": "code",
   "execution_count": 3,
   "metadata": {},
   "outputs": [
    {
     "name": "stdout",
     "output_type": "stream",
     "text": [
      "FITS_File(name='20240716_s4c1_000022.fits', folder_path='FITS', OBSTYPE='DARK', DATEOBS=datetime.datetime(2024, 7, 17, 12, 11, 0, 222371))\n",
      "FITS_File(name='20240716_s4c1_000023.fits', folder_path='FITS', OBSTYPE='DARK', DATEOBS=datetime.datetime(2024, 7, 17, 12, 11, 1, 722167))\n",
      "FITS_File(name='20240716_s4c1_000024.fits', folder_path='FITS', OBSTYPE='DARK', DATEOBS=datetime.datetime(2024, 7, 17, 12, 11, 3, 224597))\n",
      "FITS_File(name='20240716_s4c1_000025.fits', folder_path='FITS', OBSTYPE='DARK', DATEOBS=datetime.datetime(2024, 7, 17, 12, 11, 4, 724791))\n",
      "FITS_File(name='20240716_s4c1_000026.fits', folder_path='FITS', OBSTYPE='DARK', DATEOBS=datetime.datetime(2024, 7, 17, 12, 11, 9, 354871))\n",
      "FITS_File(name='20240716_s4c1_000027.fits', folder_path='FITS', OBSTYPE='DARK', DATEOBS=datetime.datetime(2024, 7, 17, 12, 11, 10, 852537))\n",
      "FITS_File(name='20240716_s4c1_000028.fits', folder_path='FITS', OBSTYPE='DARK', DATEOBS=datetime.datetime(2024, 7, 17, 12, 11, 12, 352386))\n"
     ]
    }
   ],
   "source": [
    "# ==================== Example 2 =================\n",
    "\n",
    "images_folder = os.path.join(\"FITS\")\n",
    "man = Manager(images_folder, sub_folders=True)\n",
    "man >= datetime(2024, 7, 17, 12, 11)\n",
    "man.print_list()"
   ]
  },
  {
   "cell_type": "code",
   "execution_count": 3,
   "metadata": {},
   "outputs": [
    {
     "name": "stdout",
     "output_type": "stream",
     "text": [
      "FITS_File(name='20240716_s4c1_000016.fits', folder_path='FITS', OBSTYPE='FLAT', DATEOBS=datetime.datetime(2024, 7, 17, 12, 10, 42, 57637))\n",
      "FITS_File(name='20240716_s4c1_000017.fits', folder_path='FITS', OBSTYPE='FLAT', DATEOBS=datetime.datetime(2024, 7, 17, 12, 10, 43, 556858))\n",
      "FITS_File(name='20240716_s4c1_000018.fits', folder_path='FITS', OBSTYPE='FLAT', DATEOBS=datetime.datetime(2024, 7, 17, 12, 10, 45, 58913))\n",
      "FITS_File(name='20240716_s4c1_000019.fits', folder_path='FITS', OBSTYPE='FLAT', DATEOBS=datetime.datetime(2024, 7, 17, 12, 10, 46, 556045))\n",
      "FITS_File(name='20240716_s4c1_000020.fits', folder_path='FITS', OBSTYPE='FLAT', DATEOBS=datetime.datetime(2024, 7, 17, 12, 10, 48, 58895))\n",
      "FITS_File(name='20240716_s4c1_000001.fits', folder_path='FITS/some_fits_files', OBSTYPE='ZERO', DATEOBS=datetime.datetime(2024, 7, 17, 12, 9, 56, 120813))\n",
      "FITS_File(name='20240716_s4c1_000002.fits', folder_path='FITS/some_fits_files', OBSTYPE='ZERO', DATEOBS=datetime.datetime(2024, 7, 17, 12, 9, 57, 624311))\n",
      "FITS_File(name='20240716_s4c1_000003.fits', folder_path='FITS', OBSTYPE='ZERO', DATEOBS=datetime.datetime(2024, 7, 17, 12, 9, 59, 124840))\n",
      "FITS_File(name='20240716_s4c1_000004.fits', folder_path='FITS', OBSTYPE='ZERO', DATEOBS=datetime.datetime(2024, 7, 17, 12, 10, 0, 624221))\n",
      "FITS_File(name='20240716_s4c1_000005.fits', folder_path='FITS', OBSTYPE='ZERO', DATEOBS=datetime.datetime(2024, 7, 17, 12, 10, 2, 124743))\n"
     ]
    }
   ],
   "source": [
    "# ==================== Example 3 =================\n",
    "\n",
    "images_folder = os.path.join(\"FITS\")\n",
    "man = Manager(images_folder, sub_folders=True)\n",
    "man.obs_type([\"FLAT\", \"ZERO\"])\n",
    "man.print_list()"
   ]
  }
 ],
 "metadata": {
  "kernelspec": {
   "display_name": "ffile-man-vLGV14Kr-py3.12",
   "language": "python",
   "name": "python3"
  },
  "language_info": {
   "codemirror_mode": {
    "name": "ipython",
    "version": 3
   },
   "file_extension": ".py",
   "mimetype": "text/x-python",
   "name": "python",
   "nbconvert_exporter": "python",
   "pygments_lexer": "ipython3",
   "version": "3.12.3"
  }
 },
 "nbformat": 4,
 "nbformat_minor": 2
}
